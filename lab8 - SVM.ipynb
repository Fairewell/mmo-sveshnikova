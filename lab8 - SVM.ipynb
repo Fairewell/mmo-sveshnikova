{
 "cells": [
  {
   "cell_type": "markdown",
   "metadata": {},
   "source": [
    "# Лабораторноая работа №8. Метод опорных векторов - Support Vector Machines \n",
    "\n",
    "## Подделка вина\n",
    "\n",
    "Чаще всего вино подделывают, разбавляя его более дешёвыми продуктами (например, соком), а иногда и с помощью опасных химикатов или подсластителей (чтобы добавить цвет или вкус).\n",
    "\n",
    "Другой тип подделки - продажа более дешёвых вин под более дорогими марками.\n",
    "\n",
    "<img src=\"wine.jpg\">\n",
    "\n",
    "## Цели проекта\n",
    "\n",
    "Компания-дистрибьютор вина недавно столкнулась с подделками. В итоге был проведён аудит различных вин с помощью химического анализа. Компания занимается экспортом очень качественных и дорогих вин, но один из поставщиков попытался передать дешёвое вино под видом более дорогого. Компания-дистрибьютор наняла Вас, чтобы Вы создали модель машинного обучения, которая предскажет низкое качество вина (то есть, \"подделку\"). Они хотят узнать, возможно ли определить разницу между дешёвыми и дорогими винами.\n",
    "\n",
    "\n",
    "Источник данных: *P. Cortez, A. Cerdeira, F. Almeida, T. Matos and J. Reis. Modeling wine preferences by data mining from physicochemical properties.\n",
    "In Decision Support Systems, Elsevier, 47(4):547-553, 2009.*\n",
    "\n",
    "---\n",
    "---\n",
    "\n",
    "**ЗАДАНИЕ: Обшая цель - используя данные ниже, разработайте модель машинного обучения, которая будет предсказывать на основе некоторых химических тестов, является ли вино настоящим или поддельным. Выполните задания ниже.**\n",
    "\n",
    "---\n",
    "---"
   ]
  },
  {
   "cell_type": "markdown",
   "metadata": {},
   "source": [
    "Импортируйте библиотеки и загрузите данные"
   ]
  },
  {
   "cell_type": "code",
   "execution_count": 12,
   "metadata": {},
   "outputs": [],
   "source": [
    "import numpy as np\n",
    "import pandas as pd\n",
    "import seaborn as sns\n",
    "import matplotlib.pyplot as plt"
   ]
  },
  {
   "cell_type": "code",
   "execution_count": 20,
   "metadata": {},
   "outputs": [],
   "source": [
    "data = pd.read_csv(\"data/wine_fraud.csv\")"
   ]
  },
  {
   "cell_type": "code",
   "execution_count": 21,
   "metadata": {},
   "outputs": [
    {
     "data": {
      "text/html": [
       "<div>\n",
       "<style scoped>\n",
       "    .dataframe tbody tr th:only-of-type {\n",
       "        vertical-align: middle;\n",
       "    }\n",
       "\n",
       "    .dataframe tbody tr th {\n",
       "        vertical-align: top;\n",
       "    }\n",
       "\n",
       "    .dataframe thead th {\n",
       "        text-align: right;\n",
       "    }\n",
       "</style>\n",
       "<table border=\"1\" class=\"dataframe\">\n",
       "  <thead>\n",
       "    <tr style=\"text-align: right;\">\n",
       "      <th></th>\n",
       "      <th>fixed acidity</th>\n",
       "      <th>volatile acidity</th>\n",
       "      <th>citric acid</th>\n",
       "      <th>residual sugar</th>\n",
       "      <th>chlorides</th>\n",
       "      <th>free sulfur dioxide</th>\n",
       "      <th>total sulfur dioxide</th>\n",
       "      <th>density</th>\n",
       "      <th>pH</th>\n",
       "      <th>sulphates</th>\n",
       "      <th>alcohol</th>\n",
       "      <th>quality</th>\n",
       "      <th>type</th>\n",
       "    </tr>\n",
       "  </thead>\n",
       "  <tbody>\n",
       "    <tr>\n",
       "      <th>0</th>\n",
       "      <td>7.4</td>\n",
       "      <td>0.70</td>\n",
       "      <td>0.00</td>\n",
       "      <td>1.9</td>\n",
       "      <td>0.076</td>\n",
       "      <td>11.0</td>\n",
       "      <td>34.0</td>\n",
       "      <td>0.9978</td>\n",
       "      <td>3.51</td>\n",
       "      <td>0.56</td>\n",
       "      <td>9.4</td>\n",
       "      <td>Legit</td>\n",
       "      <td>red</td>\n",
       "    </tr>\n",
       "    <tr>\n",
       "      <th>1</th>\n",
       "      <td>7.8</td>\n",
       "      <td>0.88</td>\n",
       "      <td>0.00</td>\n",
       "      <td>2.6</td>\n",
       "      <td>0.098</td>\n",
       "      <td>25.0</td>\n",
       "      <td>67.0</td>\n",
       "      <td>0.9968</td>\n",
       "      <td>3.20</td>\n",
       "      <td>0.68</td>\n",
       "      <td>9.8</td>\n",
       "      <td>Legit</td>\n",
       "      <td>red</td>\n",
       "    </tr>\n",
       "    <tr>\n",
       "      <th>2</th>\n",
       "      <td>7.8</td>\n",
       "      <td>0.76</td>\n",
       "      <td>0.04</td>\n",
       "      <td>2.3</td>\n",
       "      <td>0.092</td>\n",
       "      <td>15.0</td>\n",
       "      <td>54.0</td>\n",
       "      <td>0.9970</td>\n",
       "      <td>3.26</td>\n",
       "      <td>0.65</td>\n",
       "      <td>9.8</td>\n",
       "      <td>Legit</td>\n",
       "      <td>red</td>\n",
       "    </tr>\n",
       "    <tr>\n",
       "      <th>3</th>\n",
       "      <td>11.2</td>\n",
       "      <td>0.28</td>\n",
       "      <td>0.56</td>\n",
       "      <td>1.9</td>\n",
       "      <td>0.075</td>\n",
       "      <td>17.0</td>\n",
       "      <td>60.0</td>\n",
       "      <td>0.9980</td>\n",
       "      <td>3.16</td>\n",
       "      <td>0.58</td>\n",
       "      <td>9.8</td>\n",
       "      <td>Legit</td>\n",
       "      <td>red</td>\n",
       "    </tr>\n",
       "    <tr>\n",
       "      <th>4</th>\n",
       "      <td>7.4</td>\n",
       "      <td>0.70</td>\n",
       "      <td>0.00</td>\n",
       "      <td>1.9</td>\n",
       "      <td>0.076</td>\n",
       "      <td>11.0</td>\n",
       "      <td>34.0</td>\n",
       "      <td>0.9978</td>\n",
       "      <td>3.51</td>\n",
       "      <td>0.56</td>\n",
       "      <td>9.4</td>\n",
       "      <td>Legit</td>\n",
       "      <td>red</td>\n",
       "    </tr>\n",
       "  </tbody>\n",
       "</table>\n",
       "</div>"
      ],
      "text/plain": [
       "   fixed acidity  volatile acidity  citric acid  residual sugar  chlorides  \\\n",
       "0            7.4              0.70         0.00             1.9      0.076   \n",
       "1            7.8              0.88         0.00             2.6      0.098   \n",
       "2            7.8              0.76         0.04             2.3      0.092   \n",
       "3           11.2              0.28         0.56             1.9      0.075   \n",
       "4            7.4              0.70         0.00             1.9      0.076   \n",
       "\n",
       "   free sulfur dioxide  total sulfur dioxide  density    pH  sulphates  \\\n",
       "0                 11.0                  34.0   0.9978  3.51       0.56   \n",
       "1                 25.0                  67.0   0.9968  3.20       0.68   \n",
       "2                 15.0                  54.0   0.9970  3.26       0.65   \n",
       "3                 17.0                  60.0   0.9980  3.16       0.58   \n",
       "4                 11.0                  34.0   0.9978  3.51       0.56   \n",
       "\n",
       "   alcohol quality type  \n",
       "0      9.4   Legit  red  \n",
       "1      9.8   Legit  red  \n",
       "2      9.8   Legit  red  \n",
       "3      9.8   Legit  red  \n",
       "4      9.4   Legit  red  "
      ]
     },
     "execution_count": 21,
     "metadata": {},
     "output_type": "execute_result"
    }
   ],
   "source": [
    "data.head()"
   ]
  },
  {
   "cell_type": "markdown",
   "metadata": {},
   "source": [
    "**ЗАДАНИЕ: Сколько различных значений находится в целевой колонке quality, значения которой мы будем предсказывать?**"
   ]
  },
  {
   "cell_type": "code",
   "execution_count": 15,
   "metadata": {},
   "outputs": [
    {
     "name": "stdout",
     "output_type": "stream",
     "text": [
      "Количество различных значений в колонке 'quality': 2\n"
     ]
    }
   ],
   "source": [
    "unique_quality_values = data['quality'].nunique()\n",
    "print(f\"Количество различных значений в колонке 'quality': {unique_quality_values}\")"
   ]
  },
  {
   "cell_type": "markdown",
   "metadata": {},
   "source": [
    "**ЗАДАНИЕ: Нарисуйте график countplot, отображающий количество для каждой из категорий - Legit и Fraud.**"
   ]
  },
  {
   "cell_type": "code",
   "execution_count": 16,
   "metadata": {},
   "outputs": [
    {
     "data": {
      "image/png": "[encoded data removed]",
      "text/plain": [
       "<Figure size 800x600 with 1 Axes>"
      ]
     },
     "metadata": {},
     "output_type": "display_data"
    }
   ],
   "source": [
    "plt.figure(figsize=(8, 6))\n",
    "sns.countplot(x='type', data=data)\n",
    "plt.title(\"Количество категорий Legit и Fraud\")\n",
    "plt.xlabel(\"Категория\")\n",
    "plt.ylabel(\"Количество\")\n",
    "plt.show()"
   ]
  },
  {
   "cell_type": "markdown",
   "metadata": {},
   "source": [
    "**ЗАДАНИЕ: Давайте выясним, есть ли разница в количестве подделок в зависимости от того, красное вино или белое. Нарисуйте график countplot, отображая *тип* вина по оси x, и разбивая значения Fraud и Legit с помощью параметра hue.**"
   ]
  },
  {
   "cell_type": "code",
   "execution_count": 17,
   "metadata": {},
   "outputs": [
    {
     "data": {
      "image/png": "[encoded data removed]",
      "text/plain": [
       "<Figure size 800x600 with 1 Axes>"
      ]
     },
     "metadata": {},
     "output_type": "display_data"
    }
   ],
   "source": [
    "plt.figure(figsize=(8, 6))\n",
    "sns.countplot(x='type', hue='quality', data=data)\n",
    "plt.title(\"Распределение подделок и легитимных вин по типу (красное или белое)\")\n",
    "plt.xlabel(\"Тип вина\")\n",
    "plt.ylabel(\"Количество\")\n",
    "plt.show()"
   ]
  },
  {
   "cell_type": "markdown",
   "metadata": {},
   "source": [
    "**ЗАДАНИЕ: Какой процент красных вин является подделкой? Какой процент белых вин является подделкой?**"
   ]
  },
  {
   "cell_type": "code",
   "execution_count": 22,
   "metadata": {},
   "outputs": [
    {
     "name": "stdout",
     "output_type": "stream",
     "text": [
      "{'quality': array(['Legit', 'Fraud'], dtype=object), 'type': array(['red', 'white'], dtype=object)}\n"
     ]
    }
   ],
   "source": [
    "categorical_columns = ['quality', 'type']\n",
    "unique_values = {col: data[col].unique() for col in categorical_columns}\n",
    "\n",
    "print(unique_values)"
   ]
  },
  {
   "cell_type": "code",
   "execution_count": 23,
   "metadata": {},
   "outputs": [],
   "source": [
    "data['type'] = data['type'].map({'red': 0, 'white': 1})\n",
    "data['quality'] = data['quality'].map({'Legit': 0, 'Fraud': 1})"
   ]
  },
  {
   "cell_type": "code",
   "execution_count": 29,
   "metadata": {},
   "outputs": [
    {
     "name": "stdout",
     "output_type": "stream",
     "text": [
      "Процент поддельных красных вин: 3.94%\n"
     ]
    }
   ],
   "source": [
    "red_wines = data[data['type'] == 0]\n",
    "red_fraud_percentage = red_wines['quality'].mean() * 100\n",
    "print(f\"Процент поддельных красных вин: {red_fraud_percentage:.2f}%\")"
   ]
  },
  {
   "cell_type": "code",
   "execution_count": 30,
   "metadata": {},
   "outputs": [
    {
     "name": "stdout",
     "output_type": "stream",
     "text": [
      "Процент поддельных белых вин: 3.94%\n"
     ]
    }
   ],
   "source": [
    "white_wines = data[data['type'] == 1]\n",
    "white_fraud_percentage = red_wines['quality'].mean() * 100\n",
    "print(f\"Процент поддельных белых вин: {white_fraud_percentage:.2f}%\")"
   ]
  },
  {
   "cell_type": "markdown",
   "metadata": {},
   "source": [
    "**ЗАДАНИЕ: Вычислите корреляцию между различными признаками и колонкой \"quality\". Чтобы сделать это, Вам можете использовать значения 0 и 1 вместо текстовых значений Legit и Fraud.**"
   ]
  },
  {
   "cell_type": "code",
   "execution_count": 24,
   "metadata": {},
   "outputs": [
    {
     "name": "stdout",
     "output_type": "stream",
     "text": [
      "Корреляция с колонкой 'quality':\n",
      "fixed acidity           0.021794\n",
      "volatile acidity        0.151228\n",
      "citric acid            -0.061789\n",
      "residual sugar         -0.048756\n",
      "chlorides               0.034499\n",
      "free sulfur dioxide    -0.085204\n",
      "total sulfur dioxide   -0.035252\n",
      "density                 0.016351\n",
      "pH                      0.020107\n",
      "sulphates              -0.034046\n",
      "alcohol                -0.051141\n",
      "type                   -0.004598\n",
      "Name: quality, dtype: float64\n"
     ]
    }
   ],
   "source": [
    "correlation_matrix = data.corr()\n",
    "quality_correlation = correlation_matrix['quality'].drop('quality')\n",
    "print(\"Корреляция с колонкой 'quality':\")\n",
    "print(quality_correlation)"
   ]
  },
  {
   "cell_type": "markdown",
   "metadata": {},
   "source": [
    "**ЗАДАНИЕ: Нарисуйте график bar plot, отобразив значения корреляции для поддельных вин.**"
   ]
  },
  {
   "cell_type": "code",
   "execution_count": 31,
   "metadata": {},
   "outputs": [
    {
     "data": {
      "image/png": "[encoded data removed]",
      "text/plain": [
       "<Figure size 1000x600 with 1 Axes>"
      ]
     },
     "metadata": {},
     "output_type": "display_data"
    }
   ],
   "source": [
    "\n",
    "plt.figure(figsize=(10, 6))\n",
    "quality_correlation.sort_values().plot(kind='bar', color='skyblue')\n",
    "plt.title(\"Корреляция признаков с подделкой вина\")\n",
    "plt.xlabel(\"Признаки\")\n",
    "plt.ylabel(\"Коэффициент корреляции\")\n",
    "plt.show()"
   ]
  },
  {
   "cell_type": "markdown",
   "metadata": {},
   "source": [
    "----\n",
    "## Модель машинного обучения\n",
    "\n",
    "**ЗАДАНИЕ: Сконвертируйте категориальную колонку \"type\" из текстовых значений \"red\" и \"white\" в dummy-переменные:**"
   ]
  },
  {
   "cell_type": "code",
   "execution_count": null,
   "metadata": {},
   "outputs": [],
   "source": [
    "# Данные уже переведенны "
   ]
  },
  {
   "cell_type": "markdown",
   "metadata": {},
   "source": [
    "**ЗАДАНИЕ: Разделите данные на признаки X и целевую переменную y (колонка \"quality\")**"
   ]
  },
  {
   "cell_type": "code",
   "execution_count": 32,
   "metadata": {},
   "outputs": [],
   "source": [
    "from sklearn.model_selection import train_test_split"
   ]
  },
  {
   "cell_type": "code",
   "execution_count": 33,
   "metadata": {},
   "outputs": [],
   "source": [
    "X = data.drop('quality', axis=1)\n",
    "y = data['quality']"
   ]
  },
  {
   "cell_type": "markdown",
   "metadata": {},
   "source": [
    "**ЗАДАНИЕ: Разбейте данные на обучающий и тестовый набор данных, в отношении 90% и 10%. Замечание - в решении мы используем random state = 101**"
   ]
  },
  {
   "cell_type": "code",
   "execution_count": 34,
   "metadata": {},
   "outputs": [],
   "source": [
    "X_train, X_test, y_train, y_test = train_test_split(X, y, test_size=0.1, random_state=101)"
   ]
  },
  {
   "cell_type": "markdown",
   "metadata": {},
   "source": [
    "**ЗАДАНИЕ: Смасштабируйте данные в наборах X train и X test.**"
   ]
  },
  {
   "cell_type": "code",
   "execution_count": 35,
   "metadata": {},
   "outputs": [],
   "source": [
    "from sklearn.preprocessing import StandardScaler"
   ]
  },
  {
   "cell_type": "code",
   "execution_count": 36,
   "metadata": {},
   "outputs": [],
   "source": [
    "scaler = StandardScaler()"
   ]
  },
  {
   "cell_type": "code",
   "execution_count": 37,
   "metadata": {},
   "outputs": [],
   "source": [
    "X_train = scaler.fit_transform(X_train)"
   ]
  },
  {
   "cell_type": "code",
   "execution_count": 38,
   "metadata": {},
   "outputs": [],
   "source": [
    "X_test = scaler.transform(X_test)"
   ]
  },
  {
   "cell_type": "markdown",
   "metadata": {},
   "source": [
    "**ЗАДАНИЕ: Создайте экземпляр классификатора Support Vector Machine. Поскольку классы несбалансированы,  можем автоматически подобрать веса обратно пропорционально тому, как часто встречаются классы во входных переменных, используя параметр в вызове метода SVC(). Выясните в онлайн-документации по SVC, что это за параметр.**"
   ]
  },
  {
   "cell_type": "code",
   "execution_count": 39,
   "metadata": {},
   "outputs": [],
   "source": [
    "\n",
    "from sklearn.svm import SVC"
   ]
  },
  {
   "cell_type": "code",
   "execution_count": 40,
   "metadata": {},
   "outputs": [],
   "source": [
    "svc_model = SVC(class_weight='balanced', random_state=101)"
   ]
  },
  {
   "cell_type": "markdown",
   "metadata": {},
   "source": [
    "Параметр `class_weight='balanced'` автоматически взвешивает классы так, чтобы компенсировать несбалансированность данных. В частности, SVM учитывает обратную пропорцию к частоте появления классов, что позволяет лучше предсказывать менее распространённые классы, избегая перекоса в сторону более частых классов."
   ]
  },
  {
   "cell_type": "code",
   "execution_count": 41,
   "metadata": {},
   "outputs": [
    {
     "data": {
      "text/html": [
       "<style>#sk-container-id-1 {\n",
       "  /* Definition of color scheme common for light and dark mode */\n",
       "  --sklearn-color-text: black;\n",
       "  --sklearn-color-line: gray;\n",
       "  /* Definition of color scheme for unfitted estimators */\n",
       "  --sklearn-color-unfitted-level-0: #fff5e6;\n",
       "  --sklearn-color-unfitted-level-1: #f6e4d2;\n",
       "  --sklearn-color-unfitted-level-2: #ffe0b3;\n",
       "  --sklearn-color-unfitted-level-3: chocolate;\n",
       "  /* Definition of color scheme for fitted estimators */\n",
       "  --sklearn-color-fitted-level-0: #f0f8ff;\n",
       "  --sklearn-color-fitted-level-1: #d4ebff;\n",
       "  --sklearn-color-fitted-level-2: #b3dbfd;\n",
       "  --sklearn-color-fitted-level-3: cornflowerblue;\n",
       "\n",
       "  /* Specific color for light theme */\n",
       "  --sklearn-color-text-on-default-background: var(--sg-text-color, var(--theme-code-foreground, var(--jp-content-font-color1, black)));\n",
       "  --sklearn-color-background: var(--sg-background-color, var(--theme-background, var(--jp-layout-color0, white)));\n",
       "  --sklearn-color-border-box: var(--sg-text-color, var(--theme-code-foreground, var(--jp-content-font-color1, black)));\n",
       "  --sklearn-color-icon: #696969;\n",
       "\n",
       "  @media (prefers-color-scheme: dark) {\n",
       "    /* Redefinition of color scheme for dark theme */\n",
       "    --sklearn-color-text-on-default-background: var(--sg-text-color, var(--theme-code-foreground, var(--jp-content-font-color1, white)));\n",
       "    --sklearn-color-background: var(--sg-background-color, var(--theme-background, var(--jp-layout-color0, #111)));\n",
       "    --sklearn-color-border-box: var(--sg-text-color, var(--theme-code-foreground, var(--jp-content-font-color1, white)));\n",
       "    --sklearn-color-icon: #878787;\n",
       "  }\n",
       "}\n",
       "\n",
       "#sk-container-id-1 {\n",
       "  color: var(--sklearn-color-text);\n",
       "}\n",
       "\n",
       "#sk-container-id-1 pre {\n",
       "  padding: 0;\n",
       "}\n",
       "\n",
       "#sk-container-id-1 input.sk-hidden--visually {\n",
       "  border: 0;\n",
       "  clip: rect(1px 1px 1px 1px);\n",
       "  clip: rect(1px, 1px, 1px, 1px);\n",
       "  height: 1px;\n",
       "  margin: -1px;\n",
       "  overflow: hidden;\n",
       "  padding: 0;\n",
       "  position: absolute;\n",
       "  width: 1px;\n",
       "}\n",
       "\n",
       "#sk-container-id-1 div.sk-dashed-wrapped {\n",
       "  border: 1px dashed var(--sklearn-color-line);\n",
       "  margin: 0 0.4em 0.5em 0.4em;\n",
       "  box-sizing: border-box;\n",
       "  padding-bottom: 0.4em;\n",
       "  background-color: var(--sklearn-color-background);\n",
       "}\n",
       "\n",
       "#sk-container-id-1 div.sk-container {\n",
       "  /* jupyter's `normalize.less` sets `[hidden] { display: none; }`\n",
       "     but bootstrap.min.css set `[hidden] { display: none !important; }`\n",
       "     so we also need the `!important` here to be able to override the\n",
       "     default hidden behavior on the sphinx rendered scikit-learn.org.\n",
       "     See: https://github.com/scikit-learn/scikit-learn/issues/21755 */\n",
       "  display: inline-block !important;\n",
       "  position: relative;\n",
       "}\n",
       "\n",
       "#sk-container-id-1 div.sk-text-repr-fallback {\n",
       "  display: none;\n",
       "}\n",
       "\n",
       "div.sk-parallel-item,\n",
       "div.sk-serial,\n",
       "div.sk-item {\n",
       "  /* draw centered vertical line to link estimators */\n",
       "  background-image: linear-gradient(var(--sklearn-color-text-on-default-background), var(--sklearn-color-text-on-default-background));\n",
       "  background-size: 2px 100%;\n",
       "  background-repeat: no-repeat;\n",
       "  background-position: center center;\n",
       "}\n",
       "\n",
       "/* Parallel-specific style estimator block */\n",
       "\n",
       "#sk-container-id-1 div.sk-parallel-item::after {\n",
       "  content: \"\";\n",
       "  width: 100%;\n",
       "  border-bottom: 2px solid var(--sklearn-color-text-on-default-background);\n",
       "  flex-grow: 1;\n",
       "}\n",
       "\n",
       "#sk-container-id-1 div.sk-parallel {\n",
       "  display: flex;\n",
       "  align-items: stretch;\n",
       "  justify-content: center;\n",
       "  background-color: var(--sklearn-color-background);\n",
       "  position: relative;\n",
       "}\n",
       "\n",
       "#sk-container-id-1 div.sk-parallel-item {\n",
       "  display: flex;\n",
       "  flex-direction: column;\n",
       "}\n",
       "\n",
       "#sk-container-id-1 div.sk-parallel-item:first-child::after {\n",
       "  align-self: flex-end;\n",
       "  width: 50%;\n",
       "}\n",
       "\n",
       "#sk-container-id-1 div.sk-parallel-item:last-child::after {\n",
       "  align-self: flex-start;\n",
       "  width: 50%;\n",
       "}\n",
       "\n",
       "#sk-container-id-1 div.sk-parallel-item:only-child::after {\n",
       "  width: 0;\n",
       "}\n",
       "\n",
       "/* Serial-specific style estimator block */\n",
       "\n",
       "#sk-container-id-1 div.sk-serial {\n",
       "  display: flex;\n",
       "  flex-direction: column;\n",
       "  align-items: center;\n",
       "  background-color: var(--sklearn-color-background);\n",
       "  padding-right: 1em;\n",
       "  padding-left: 1em;\n",
       "}\n",
       "\n",
       "\n",
       "/* Toggleable style: style used for estimator/Pipeline/ColumnTransformer box that is\n",
       "clickable and can be expanded/collapsed.\n",
       "- Pipeline and ColumnTransformer use this feature and define the default style\n",
       "- Estimators will overwrite some part of the style using the `sk-estimator` class\n",
       "*/\n",
       "\n",
       "/* Pipeline and ColumnTransformer style (default) */\n",
       "\n",
       "#sk-container-id-1 div.sk-toggleable {\n",
       "  /* Default theme specific background. It is overwritten whether we have a\n",
       "  specific estimator or a Pipeline/ColumnTransformer */\n",
       "  background-color: var(--sklearn-color-background);\n",
       "}\n",
       "\n",
       "/* Toggleable label */\n",
       "#sk-container-id-1 label.sk-toggleable__label {\n",
       "  cursor: pointer;\n",
       "  display: block;\n",
       "  width: 100%;\n",
       "  margin-bottom: 0;\n",
       "  padding: 0.5em;\n",
       "  box-sizing: border-box;\n",
       "  text-align: center;\n",
       "}\n",
       "\n",
       "#sk-container-id-1 label.sk-toggleable__label-arrow:before {\n",
       "  /* Arrow on the left of the label */\n",
       "  content: \"▸\";\n",
       "  float: left;\n",
       "  margin-right: 0.25em;\n",
       "  color: var(--sklearn-color-icon);\n",
       "}\n",
       "\n",
       "#sk-container-id-1 label.sk-toggleable__label-arrow:hover:before {\n",
       "  color: var(--sklearn-color-text);\n",
       "}\n",
       "\n",
       "/* Toggleable content - dropdown */\n",
       "\n",
       "#sk-container-id-1 div.sk-toggleable__content {\n",
       "  max-height: 0;\n",
       "  max-width: 0;\n",
       "  overflow: hidden;\n",
       "  text-align: left;\n",
       "  /* unfitted */\n",
       "  background-color: var(--sklearn-color-unfitted-level-0);\n",
       "}\n",
       "\n",
       "#sk-container-id-1 div.sk-toggleable__content.fitted {\n",
       "  /* fitted */\n",
       "  background-color: var(--sklearn-color-fitted-level-0);\n",
       "}\n",
       "\n",
       "#sk-container-id-1 div.sk-toggleable__content pre {\n",
       "  margin: 0.2em;\n",
       "  border-radius: 0.25em;\n",
       "  color: var(--sklearn-color-text);\n",
       "  /* unfitted */\n",
       "  background-color: var(--sklearn-color-unfitted-level-0);\n",
       "}\n",
       "\n",
       "#sk-container-id-1 div.sk-toggleable__content.fitted pre {\n",
       "  /* unfitted */\n",
       "  background-color: var(--sklearn-color-fitted-level-0);\n",
       "}\n",
       "\n",
       "#sk-container-id-1 input.sk-toggleable__control:checked~div.sk-toggleable__content {\n",
       "  /* Expand drop-down */\n",
       "  max-height: 200px;\n",
       "  max-width: 100%;\n",
       "  overflow: auto;\n",
       "}\n",
       "\n",
       "#sk-container-id-1 input.sk-toggleable__control:checked~label.sk-toggleable__label-arrow:before {\n",
       "  content: \"▾\";\n",
       "}\n",
       "\n",
       "/* Pipeline/ColumnTransformer-specific style */\n",
       "\n",
       "#sk-container-id-1 div.sk-label input.sk-toggleable__control:checked~label.sk-toggleable__label {\n",
       "  color: var(--sklearn-color-text);\n",
       "  background-color: var(--sklearn-color-unfitted-level-2);\n",
       "}\n",
       "\n",
       "#sk-container-id-1 div.sk-label.fitted input.sk-toggleable__control:checked~label.sk-toggleable__label {\n",
       "  background-color: var(--sklearn-color-fitted-level-2);\n",
       "}\n",
       "\n",
       "/* Estimator-specific style */\n",
       "\n",
       "/* Colorize estimator box */\n",
       "#sk-container-id-1 div.sk-estimator input.sk-toggleable__control:checked~label.sk-toggleable__label {\n",
       "  /* unfitted */\n",
       "  background-color: var(--sklearn-color-unfitted-level-2);\n",
       "}\n",
       "\n",
       "#sk-container-id-1 div.sk-estimator.fitted input.sk-toggleable__control:checked~label.sk-toggleable__label {\n",
       "  /* fitted */\n",
       "  background-color: var(--sklearn-color-fitted-level-2);\n",
       "}\n",
       "\n",
       "#sk-container-id-1 div.sk-label label.sk-toggleable__label,\n",
       "#sk-container-id-1 div.sk-label label {\n",
       "  /* The background is the default theme color */\n",
       "  color: var(--sklearn-color-text-on-default-background);\n",
       "}\n",
       "\n",
       "/* On hover, darken the color of the background */\n",
       "#sk-container-id-1 div.sk-label:hover label.sk-toggleable__label {\n",
       "  color: var(--sklearn-color-text);\n",
       "  background-color: var(--sklearn-color-unfitted-level-2);\n",
       "}\n",
       "\n",
       "/* Label box, darken color on hover, fitted */\n",
       "#sk-container-id-1 div.sk-label.fitted:hover label.sk-toggleable__label.fitted {\n",
       "  color: var(--sklearn-color-text);\n",
       "  background-color: var(--sklearn-color-fitted-level-2);\n",
       "}\n",
       "\n",
       "/* Estimator label */\n",
       "\n",
       "#sk-container-id-1 div.sk-label label {\n",
       "  font-family: monospace;\n",
       "  font-weight: bold;\n",
       "  display: inline-block;\n",
       "  line-height: 1.2em;\n",
       "}\n",
       "\n",
       "#sk-container-id-1 div.sk-label-container {\n",
       "  text-align: center;\n",
       "}\n",
       "\n",
       "/* Estimator-specific */\n",
       "#sk-container-id-1 div.sk-estimator {\n",
       "  font-family: monospace;\n",
       "  border: 1px dotted var(--sklearn-color-border-box);\n",
       "  border-radius: 0.25em;\n",
       "  box-sizing: border-box;\n",
       "  margin-bottom: 0.5em;\n",
       "  /* unfitted */\n",
       "  background-color: var(--sklearn-color-unfitted-level-0);\n",
       "}\n",
       "\n",
       "#sk-container-id-1 div.sk-estimator.fitted {\n",
       "  /* fitted */\n",
       "  background-color: var(--sklearn-color-fitted-level-0);\n",
       "}\n",
       "\n",
       "/* on hover */\n",
       "#sk-container-id-1 div.sk-estimator:hover {\n",
       "  /* unfitted */\n",
       "  background-color: var(--sklearn-color-unfitted-level-2);\n",
       "}\n",
       "\n",
       "#sk-container-id-1 div.sk-estimator.fitted:hover {\n",
       "  /* fitted */\n",
       "  background-color: var(--sklearn-color-fitted-level-2);\n",
       "}\n",
       "\n",
       "/* Specification for estimator info (e.g. \"i\" and \"?\") */\n",
       "\n",
       "/* Common style for \"i\" and \"?\" */\n",
       "\n",
       ".sk-estimator-doc-link,\n",
       "a:link.sk-estimator-doc-link,\n",
       "a:visited.sk-estimator-doc-link {\n",
       "  float: right;\n",
       "  font-size: smaller;\n",
       "  line-height: 1em;\n",
       "  font-family: monospace;\n",
       "  background-color: var(--sklearn-color-background);\n",
       "  border-radius: 1em;\n",
       "  height: 1em;\n",
       "  width: 1em;\n",
       "  text-decoration: none !important;\n",
       "  margin-left: 1ex;\n",
       "  /* unfitted */\n",
       "  border: var(--sklearn-color-unfitted-level-1) 1pt solid;\n",
       "  color: var(--sklearn-color-unfitted-level-1);\n",
       "}\n",
       "\n",
       ".sk-estimator-doc-link.fitted,\n",
       "a:link.sk-estimator-doc-link.fitted,\n",
       "a:visited.sk-estimator-doc-link.fitted {\n",
       "  /* fitted */\n",
       "  border: var(--sklearn-color-fitted-level-1) 1pt solid;\n",
       "  color: var(--sklearn-color-fitted-level-1);\n",
       "}\n",
       "\n",
       "/* On hover */\n",
       "div.sk-estimator:hover .sk-estimator-doc-link:hover,\n",
       ".sk-estimator-doc-link:hover,\n",
       "div.sk-label-container:hover .sk-estimator-doc-link:hover,\n",
       ".sk-estimator-doc-link:hover {\n",
       "  /* unfitted */\n",
       "  background-color: var(--sklearn-color-unfitted-level-3);\n",
       "  color: var(--sklearn-color-background);\n",
       "  text-decoration: none;\n",
       "}\n",
       "\n",
       "div.sk-estimator.fitted:hover .sk-estimator-doc-link.fitted:hover,\n",
       ".sk-estimator-doc-link.fitted:hover,\n",
       "div.sk-label-container:hover .sk-estimator-doc-link.fitted:hover,\n",
       ".sk-estimator-doc-link.fitted:hover {\n",
       "  /* fitted */\n",
       "  background-color: var(--sklearn-color-fitted-level-3);\n",
       "  color: var(--sklearn-color-background);\n",
       "  text-decoration: none;\n",
       "}\n",
       "\n",
       "/* Span, style for the box shown on hovering the info icon */\n",
       ".sk-estimator-doc-link span {\n",
       "  display: none;\n",
       "  z-index: 9999;\n",
       "  position: relative;\n",
       "  font-weight: normal;\n",
       "  right: .2ex;\n",
       "  padding: .5ex;\n",
       "  margin: .5ex;\n",
       "  width: min-content;\n",
       "  min-width: 20ex;\n",
       "  max-width: 50ex;\n",
       "  color: var(--sklearn-color-text);\n",
       "  box-shadow: 2pt 2pt 4pt #999;\n",
       "  /* unfitted */\n",
       "  background: var(--sklearn-color-unfitted-level-0);\n",
       "  border: .5pt solid var(--sklearn-color-unfitted-level-3);\n",
       "}\n",
       "\n",
       ".sk-estimator-doc-link.fitted span {\n",
       "  /* fitted */\n",
       "  background: var(--sklearn-color-fitted-level-0);\n",
       "  border: var(--sklearn-color-fitted-level-3);\n",
       "}\n",
       "\n",
       ".sk-estimator-doc-link:hover span {\n",
       "  display: block;\n",
       "}\n",
       "\n",
       "/* \"?\"-specific style due to the `<a>` HTML tag */\n",
       "\n",
       "#sk-container-id-1 a.estimator_doc_link {\n",
       "  float: right;\n",
       "  font-size: 1rem;\n",
       "  line-height: 1em;\n",
       "  font-family: monospace;\n",
       "  background-color: var(--sklearn-color-background);\n",
       "  border-radius: 1rem;\n",
       "  height: 1rem;\n",
       "  width: 1rem;\n",
       "  text-decoration: none;\n",
       "  /* unfitted */\n",
       "  color: var(--sklearn-color-unfitted-level-1);\n",
       "  border: var(--sklearn-color-unfitted-level-1) 1pt solid;\n",
       "}\n",
       "\n",
       "#sk-container-id-1 a.estimator_doc_link.fitted {\n",
       "  /* fitted */\n",
       "  border: var(--sklearn-color-fitted-level-1) 1pt solid;\n",
       "  color: var(--sklearn-color-fitted-level-1);\n",
       "}\n",
       "\n",
       "/* On hover */\n",
       "#sk-container-id-1 a.estimator_doc_link:hover {\n",
       "  /* unfitted */\n",
       "  background-color: var(--sklearn-color-unfitted-level-3);\n",
       "  color: var(--sklearn-color-background);\n",
       "  text-decoration: none;\n",
       "}\n",
       "\n",
       "#sk-container-id-1 a.estimator_doc_link.fitted:hover {\n",
       "  /* fitted */\n",
       "  background-color: var(--sklearn-color-fitted-level-3);\n",
       "}\n",
       "</style><div id=\"sk-container-id-1\" class=\"sk-top-container\"><div class=\"sk-text-repr-fallback\"><pre>SVC(class_weight=&#x27;balanced&#x27;, random_state=101)</pre><b>In a Jupyter environment, please rerun this cell to show the HTML representation or trust the notebook. <br />On GitHub, the HTML representation is unable to render, please try loading this page with nbviewer.org.</b></div><div class=\"sk-container\" hidden><div class=\"sk-item\"><div class=\"sk-estimator fitted sk-toggleable\"><input class=\"sk-toggleable__control sk-hidden--visually\" id=\"sk-estimator-id-1\" type=\"checkbox\" checked><label for=\"sk-estimator-id-1\" class=\"sk-toggleable__label fitted sk-toggleable__label-arrow fitted\">&nbsp;&nbsp;SVC<a class=\"sk-estimator-doc-link fitted\" rel=\"noreferrer\" target=\"_blank\" href=\"https://scikit-learn.org/1.5/modules/generated/sklearn.svm.SVC.html\">?<span>Documentation for SVC</span></a><span class=\"sk-estimator-doc-link fitted\">i<span>Fitted</span></span></label><div class=\"sk-toggleable__content fitted\"><pre>SVC(class_weight=&#x27;balanced&#x27;, random_state=101)</pre></div> </div></div></div></div>"
      ],
      "text/plain": [
       "SVC(class_weight='balanced', random_state=101)"
      ]
     },
     "execution_count": 41,
     "metadata": {},
     "output_type": "execute_result"
    }
   ],
   "source": [
    "svc_model.fit(X_train, y_train)"
   ]
  },
  {
   "cell_type": "markdown",
   "metadata": {},
   "source": [
    "**ЗАДАНИЕ: С помощью GridSearchCV выполните поиск по сетке значений параметров C и gamma.**"
   ]
  },
  {
   "cell_type": "code",
   "execution_count": 43,
   "metadata": {},
   "outputs": [],
   "source": [
    "from sklearn.model_selection import GridSearchCV"
   ]
  },
  {
   "cell_type": "code",
   "execution_count": 45,
   "metadata": {},
   "outputs": [
    {
     "name": "stdout",
     "output_type": "stream",
     "text": [
      "Fitting 5 folds for each of 16 candidates, totalling 80 fits\n",
      "[CV] END .....................................C=0.1, gamma=1; total time=   3.2s\n",
      "[CV] END .....................................C=0.1, gamma=1; total time=   2.6s\n",
      "[CV] END .....................................C=0.1, gamma=1; total time=   2.9s\n",
      "[CV] END .....................................C=0.1, gamma=1; total time=   2.7s\n",
      "[CV] END .....................................C=0.1, gamma=1; total time=   2.6s\n",
      "[CV] END ...................................C=0.1, gamma=0.1; total time=   1.4s\n",
      "[CV] END ...................................C=0.1, gamma=0.1; total time=   1.5s\n",
      "[CV] END ...................................C=0.1, gamma=0.1; total time=   1.3s\n",
      "[CV] END ...................................C=0.1, gamma=0.1; total time=   1.5s\n",
      "[CV] END ...................................C=0.1, gamma=0.1; total time=   1.4s\n",
      "[CV] END ..................................C=0.1, gamma=0.01; total time=   1.8s\n",
      "[CV] END ..................................C=0.1, gamma=0.01; total time=   1.7s\n",
      "[CV] END ..................................C=0.1, gamma=0.01; total time=   1.7s\n",
      "[CV] END ..................................C=0.1, gamma=0.01; total time=   1.7s\n",
      "[CV] END ..................................C=0.1, gamma=0.01; total time=   1.7s\n",
      "[CV] END .................................C=0.1, gamma=0.001; total time=   2.1s\n",
      "[CV] END .................................C=0.1, gamma=0.001; total time=   2.2s\n",
      "[CV] END .................................C=0.1, gamma=0.001; total time=   2.2s\n",
      "[CV] END .................................C=0.1, gamma=0.001; total time=   2.1s\n",
      "[CV] END .................................C=0.1, gamma=0.001; total time=   2.6s\n",
      "[CV] END .......................................C=1, gamma=1; total time=   1.1s\n",
      "[CV] END .......................................C=1, gamma=1; total time=   1.1s\n",
      "[CV] END .......................................C=1, gamma=1; total time=   1.2s\n",
      "[CV] END .......................................C=1, gamma=1; total time=   1.7s\n",
      "[CV] END .......................................C=1, gamma=1; total time=   2.5s\n",
      "[CV] END .....................................C=1, gamma=0.1; total time=   1.4s\n",
      "[CV] END .....................................C=1, gamma=0.1; total time=   1.5s\n",
      "[CV] END .....................................C=1, gamma=0.1; total time=   1.3s\n",
      "[CV] END .....................................C=1, gamma=0.1; total time=   1.9s\n",
      "[CV] END .....................................C=1, gamma=0.1; total time=   1.2s\n",
      "[CV] END ....................................C=1, gamma=0.01; total time=   1.7s\n",
      "[CV] END ....................................C=1, gamma=0.01; total time=   2.3s\n",
      "[CV] END ....................................C=1, gamma=0.01; total time=   2.4s\n",
      "[CV] END ....................................C=1, gamma=0.01; total time=   2.0s\n",
      "[CV] END ....................................C=1, gamma=0.01; total time=   1.5s\n",
      "[CV] END ...................................C=1, gamma=0.001; total time=   1.7s\n",
      "[CV] END ...................................C=1, gamma=0.001; total time=   1.7s\n",
      "[CV] END ...................................C=1, gamma=0.001; total time=   1.7s\n",
      "[CV] END ...................................C=1, gamma=0.001; total time=   1.8s\n",
      "[CV] END ...................................C=1, gamma=0.001; total time=   1.7s\n",
      "[CV] END ......................................C=10, gamma=1; total time=   0.9s\n",
      "[CV] END ......................................C=10, gamma=1; total time=   0.9s\n",
      "[CV] END ......................................C=10, gamma=1; total time=   1.0s\n",
      "[CV] END ......................................C=10, gamma=1; total time=   1.1s\n",
      "[CV] END ......................................C=10, gamma=1; total time=   1.0s\n",
      "[CV] END ....................................C=10, gamma=0.1; total time=   0.6s\n",
      "[CV] END ....................................C=10, gamma=0.1; total time=   0.7s\n",
      "[CV] END ....................................C=10, gamma=0.1; total time=   0.6s\n",
      "[CV] END ....................................C=10, gamma=0.1; total time=   0.6s\n",
      "[CV] END ....................................C=10, gamma=0.1; total time=   0.6s\n",
      "[CV] END ...................................C=10, gamma=0.01; total time=   1.2s\n",
      "[CV] END ...................................C=10, gamma=0.01; total time=   1.2s\n",
      "[CV] END ...................................C=10, gamma=0.01; total time=   1.4s\n",
      "[CV] END ...................................C=10, gamma=0.01; total time=   2.0s\n",
      "[CV] END ...................................C=10, gamma=0.01; total time=   1.3s\n",
      "[CV] END ..................................C=10, gamma=0.001; total time=   1.6s\n",
      "[CV] END ..................................C=10, gamma=0.001; total time=   1.9s\n",
      "[CV] END ..................................C=10, gamma=0.001; total time=   1.9s\n",
      "[CV] END ..................................C=10, gamma=0.001; total time=   2.2s\n",
      "[CV] END ..................................C=10, gamma=0.001; total time=   1.4s\n",
      "[CV] END .....................................C=100, gamma=1; total time=   0.9s\n",
      "[CV] END .....................................C=100, gamma=1; total time=   0.9s\n",
      "[CV] END .....................................C=100, gamma=1; total time=   1.0s\n",
      "[CV] END .....................................C=100, gamma=1; total time=   0.9s\n",
      "[CV] END .....................................C=100, gamma=1; total time=   0.9s\n",
      "[CV] END ...................................C=100, gamma=0.1; total time=   0.5s\n",
      "[CV] END ...................................C=100, gamma=0.1; total time=   0.6s\n",
      "[CV] END ...................................C=100, gamma=0.1; total time=   0.8s\n",
      "[CV] END ...................................C=100, gamma=0.1; total time=   0.9s\n",
      "[CV] END ...................................C=100, gamma=0.1; total time=   0.8s\n",
      "[CV] END ..................................C=100, gamma=0.01; total time=   2.1s\n",
      "[CV] END ..................................C=100, gamma=0.01; total time=   1.9s\n",
      "[CV] END ..................................C=100, gamma=0.01; total time=   1.3s\n",
      "[CV] END ..................................C=100, gamma=0.01; total time=   1.4s\n",
      "[CV] END ..................................C=100, gamma=0.01; total time=   1.8s\n",
      "[CV] END .................................C=100, gamma=0.001; total time=   1.4s\n",
      "[CV] END .................................C=100, gamma=0.001; total time=   1.6s\n",
      "[CV] END .................................C=100, gamma=0.001; total time=   1.4s\n",
      "[CV] END .................................C=100, gamma=0.001; total time=   1.4s\n",
      "[CV] END .................................C=100, gamma=0.001; total time=   1.4s\n",
      "Наилучшие параметры: {'C': 10, 'gamma': 1}\n"
     ]
    }
   ],
   "source": [
    "param_grid = {'C': [0.1, 1, 10, 100], \n",
    "              'gamma': [1, 0.1, 0.01, 0.001]}\n",
    "\n",
    "grid = GridSearchCV(SVC(class_weight='balanced', random_state=101), param_grid, refit=True, verbose=2)\n",
    "grid.fit(X_train, y_train)\n",
    "\n",
    "# Вывод наилучших параметров\n",
    "print(\"Наилучшие параметры:\", grid.best_params_)"
   ]
  },
  {
   "cell_type": "code",
   "execution_count": 46,
   "metadata": {},
   "outputs": [],
   "source": [
    "y_pred = grid.predict(X_test)"
   ]
  },
  {
   "cell_type": "markdown",
   "metadata": {},
   "source": [
    "**ЗАДАНИЕ: Отобразите матрицу \"confusion matrix\" и отчёт \"classification report\" для Вашей модели.**"
   ]
  },
  {
   "cell_type": "code",
   "execution_count": null,
   "metadata": {},
   "outputs": [],
   "source": [
    "from sklearn.metrics import classification_report, confusion_matrix"
   ]
  },
  {
   "cell_type": "code",
   "execution_count": 47,
   "metadata": {},
   "outputs": [
    {
     "name": "stdout",
     "output_type": "stream",
     "text": [
      "Матрица ошибок:\n",
      "[[620   3]\n",
      " [ 24   3]]\n"
     ]
    }
   ],
   "source": [
    "print(\"Матрица ошибок:\")\n",
    "print(confusion_matrix(y_test, y_pred))"
   ]
  },
  {
   "cell_type": "code",
   "execution_count": 48,
   "metadata": {},
   "outputs": [
    {
     "name": "stdout",
     "output_type": "stream",
     "text": [
      "Отчёт классификации:\n",
      "              precision    recall  f1-score   support\n",
      "\n",
      "           0       0.96      1.00      0.98       623\n",
      "           1       0.50      0.11      0.18        27\n",
      "\n",
      "    accuracy                           0.96       650\n",
      "   macro avg       0.73      0.55      0.58       650\n",
      "weighted avg       0.94      0.96      0.95       650\n",
      "\n"
     ]
    }
   ],
   "source": [
    "print(\"Отчёт классификации:\")\n",
    "print(classification_report(y_test, y_pred))"
   ]
  },
  {
   "cell_type": "markdown",
   "metadata": {},
   "source": [
    "**ЗАДАНИЕ: Как Вы думаете, насколько хорошо работает модель? Можно ли рекомендовать её к применению? Будет ли она работать в реальной жизни?**"
   ]
  },
  {
   "cell_type": "markdown",
   "metadata": {},
   "source": [
    "Модель показывает высокую точность в классификации настоящего вина (класс **0**), но её способность выявлять поддельное вино (класс **1**) остается очень низкой. Это свидетельствует о сильном дисбалансе в данных, где настоящий класс доминирует, что позволяет модели достигать высокого показателя общей точности, но неэффективно распознавать подделки. В реальной жизни такая модель будет непригодна для целей контроля подделок, поскольку:\n",
    "\n",
    "1. Недостаток выявления подделок: Низкие показатели `recall` и `f1-score` для класса **1** означают, что модель пропускает большинство поддельных вин, что в практическом применении критично. В реальной задаче классификации, связанной с качеством или подлинностью продуктов, крайне важны высокие показатели выявления подделок, так как даже небольшое количество пропущенных подделок может снизить доверие к системе.\n",
    "\n",
    "2. Несбалансированные данные: Так как модель обучена на выборке с очень малым числом поддельных вин, она «приспособилась» к распознаванию только большинства. Для реального применения модели было бы необходимо:\n",
    "\n",
    "    - Увеличить представительность поддельных вин в обучающей выборке, либо путем сбора дополнительных данных, либо с помощью методов *oversampling* (например, `SMOTE`).\n",
    "    - Применить методы, способные эффективно работать с несбалансированными данными (например, ансамблевые модели или настройка порогов принятия решения).\n",
    "3. Точность по отношению к значимости задачи: В реальных условиях модель с такой высокой долей ошибок для класса подделок не удовлетворит требования безопасности и контроля качества. Она даст слишком много ложных уверений в подлинности вина, что недопустимо для задачи обнаружения подделок."
   ]
  },
  {
   "cell_type": "code",
   "execution_count": 49,
   "metadata": {},
   "outputs": [
    {
     "name": "stdout",
     "output_type": "stream",
     "text": [
      "Наилучшие параметры: {'C': 0.1, 'gamma': 10}\n",
      "Матрица ошибок:\n",
      "[[623   0]\n",
      " [ 25   2]]\n",
      "Отчёт классификации:\n",
      "              precision    recall  f1-score   support\n",
      "\n",
      "           0       0.96      1.00      0.98       623\n",
      "           1       1.00      0.07      0.14        27\n",
      "\n",
      "    accuracy                           0.96       650\n",
      "   macro avg       0.98      0.54      0.56       650\n",
      "weighted avg       0.96      0.96      0.95       650\n",
      "\n"
     ]
    }
   ],
   "source": [
    "svc = SVC(class_weight='balanced')  # автоматическое определение весов классов\n",
    "\n",
    "param_grid = {'C': [0.1, 1, 10], \n",
    "              'gamma': [0.1, 1, 10]}\n",
    "grid = GridSearchCV(svc, param_grid, refit=True)\n",
    "grid.fit(X_train, y_train)\n",
    "\n",
    "# Вывод результатов\n",
    "y_pred = grid.predict(X_test)\n",
    "print(\"Наилучшие параметры:\", grid.best_params_)\n",
    "print(\"Матрица ошибок:\")\n",
    "print(confusion_matrix(y_test, y_pred))\n",
    "print(\"Отчёт классификации:\")\n",
    "print(classification_report(y_test, y_pred))"
   ]
  },
  {
   "cell_type": "markdown",
   "metadata": {},
   "source": [
    "В этом случае модель находит все объекты класса **0** и не ошибается, но сильно страдает на подделках. Полнота для класса **1** всё ещё очень низкая (**0.07**), что означает, что модель почти не находит подделки. Такой подход можно использовать в случаях, когда важно точно классифицировать легитимные объекты, но для реального использования в ситуациях, где важно обнаружить подделки, модель тоже не будет достаточно эффективной."
   ]
  },
  {
   "cell_type": "code",
   "execution_count": 51,
   "metadata": {},
   "outputs": [
    {
     "name": "stdout",
     "output_type": "stream",
     "text": [
      "Наилучшие параметры: {'C': 10, 'gamma': 1}\n",
      "Матрица ошибок:\n",
      "[[615   8]\n",
      " [ 23   4]]\n",
      "Отчёт классификации:\n",
      "              precision    recall  f1-score   support\n",
      "\n",
      "           0       0.96      0.99      0.98       623\n",
      "           1       0.33      0.15      0.21        27\n",
      "\n",
      "    accuracy                           0.95       650\n",
      "   macro avg       0.65      0.57      0.59       650\n",
      "weighted avg       0.94      0.95      0.94       650\n",
      "\n"
     ]
    }
   ],
   "source": [
    "from imblearn.over_sampling import SMOTE\n",
    "\n",
    "smote = SMOTE(random_state=101)\n",
    "X_train_smote, y_train_smote = smote.fit_resample(X_train, y_train)\n",
    "\n",
    "svc = SVC()\n",
    "param_grid = {'C': [0.1, 1, 10], 'gamma': [0.1, 1, 10]}\n",
    "grid = GridSearchCV(svc, param_grid, refit=True)\n",
    "grid.fit(X_train_smote, y_train_smote)\n",
    "\n",
    "# Вывод результатов\n",
    "y_pred = grid.predict(X_test)\n",
    "print(\"Наилучшие параметры:\", grid.best_params_)\n",
    "print(\"Матрица ошибок:\")\n",
    "print(confusion_matrix(y_test, y_pred))\n",
    "print(\"Отчёт классификации:\")\n",
    "print(classification_report(y_test, y_pred))"
   ]
  },
  {
   "cell_type": "markdown",
   "metadata": {},
   "source": [
    "В этой модели мы видим лучшее соотношение между `accuracy` и `recall` по сравнению с предыдущими моделями, но полнота для класса **1** всё ещё низкая (**0.15**), что не подходит для реального применения, где важна высокая полнота для обнаружения подделок."
   ]
  },
  {
   "cell_type": "code",
   "execution_count": 52,
   "metadata": {},
   "outputs": [],
   "source": [
    "from sklearn.metrics import precision_recall_curve"
   ]
  },
  {
   "cell_type": "code",
   "execution_count": 54,
   "metadata": {},
   "outputs": [
    {
     "name": "stdout",
     "output_type": "stream",
     "text": [
      "Матрица ошибок:\n",
      "[[592  31]\n",
      " [ 14  13]]\n",
      "Отчёт классификации:\n",
      "              precision    recall  f1-score   support\n",
      "\n",
      "           0       0.98      0.95      0.96       623\n",
      "           1       0.30      0.48      0.37        27\n",
      "\n",
      "    accuracy                           0.93       650\n",
      "   macro avg       0.64      0.72      0.66       650\n",
      "weighted avg       0.95      0.93      0.94       650\n",
      "\n"
     ]
    }
   ],
   "source": [
    "svc = SVC(C=10, gamma=1, probability=True)  # оптимальные параметры с предыдущих тестов\n",
    "svc.fit(X_train, y_train)\n",
    "\n",
    "y_scores = svc.predict_proba(X_test)[:, 1]\n",
    "\n",
    "# Получаем значения precision, recall и thresholds для precision-recall curve\n",
    "precision, recall, thresholds = precision_recall_curve(y_test, y_scores)\n",
    "\n",
    "# Находим точку с максимальным F1-скором (это сбалансированное сочетание precision и recall)\n",
    "f1_scores = 2 * (precision * recall) / (precision + recall)\n",
    "optimal_threshold = thresholds[f1_scores.argmax()]\n",
    "\n",
    "# Применяем новый порог\n",
    "y_pred_thresholded = (y_scores >= optimal_threshold).astype(int)\n",
    "\n",
    "# Вывод результатов\n",
    "print(\"Матрица ошибок:\")\n",
    "print(confusion_matrix(y_test, y_pred_thresholded))\n",
    "print(\"Отчёт классификации:\")\n",
    "print(classification_report(y_test, y_pred_thresholded))"
   ]
  },
  {
   "cell_type": "markdown",
   "metadata": {},
   "source": [
    "В этом случае `полнота` для класса **1** (подделки) значительно улучшена (**0.48**), что делает модель более сбалансированной по сравнению с предыдущими подходами. Однако `точность` для подделок всё ещё не очень высокая (**0.30**), и модель теряет в общей `точности` (**0.93**). Тем не менее, это более эффективный подход для реальной жизни, так как он повышает вероятность обнаружения подделок, но требует дальнейшей настройки для улучшения точности."
   ]
  }
 ],
 "metadata": {
  "anaconda-cloud": {},
  "kernelspec": {
   "display_name": ".venv",
   "language": "python",
   "name": "python3"
  },
  "language_info": {
   "codemirror_mode": {
    "name": "ipython",
    "version": 3
   },
   "file_extension": ".py",
   "mimetype": "text/x-python",
   "name": "python",
   "nbconvert_exporter": "python",
   "pygments_lexer": "ipython3",
   "version": "3.12.6"
  }
 },
 "nbformat": 4,
 "nbformat_minor": 1
}
