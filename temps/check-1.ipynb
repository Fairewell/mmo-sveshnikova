{
 "cells": [
  {
   "cell_type": "markdown",
   "metadata": {},
   "source": [
    "### микропроверки №1: предобработка(?) данных"
   ]
  },
  {
   "cell_type": "code",
   "execution_count": 27,
   "metadata": {},
   "outputs": [],
   "source": [
    "# Импортируем необходимые библиотеки\n",
    "import pandas as pd\n",
    "import numpy as np\n",
    "import os\n",
    "import random\n",
    "from sklearn.preprocessing import StandardScaler"
   ]
  },
  {
   "cell_type": "code",
   "execution_count": 28,
   "metadata": {},
   "outputs": [
    {
     "name": "stdout",
     "output_type": "stream",
     "text": [
      "Текущая рабочая директория: c:\\Users\\vlad9\\Documents\\study\\4 kurs\\1 semestr\\mmo\\temps\n",
      "Файл найден по пути: ..\\data\\temp\\data.csv\n"
     ]
    }
   ],
   "source": [
    "# Выводим текущую рабочую директорию\n",
    "print(\"Текущая рабочая директория:\", os.getcwd())\n",
    "\n",
    "# Определяем путь к файлу (относительный путь из папки temps)\n",
    "data_file_path = os.path.join('..', 'data', 'temp', 'data.csv')\n",
    "\n",
    "# Проверяем, существует ли файл\n",
    "if os.path.exists(data_file_path):\n",
    "    print(f'Файл найден по пути: {data_file_path}')\n",
    "else:\n",
    "    print(f\"Файл не найден по пути: {data_file_path}\")"
   ]
  },
  {
   "cell_type": "code",
   "execution_count": 29,
   "metadata": {},
   "outputs": [
    {
     "name": "stdout",
     "output_type": "stream",
     "text": [
      "Файл data.csv успешно сгенерирован!\n"
     ]
    }
   ],
   "source": [
    "\n",
    "# Устанавливаем семя для воспроизводимости\n",
    "random.seed(42)\n",
    "\n",
    "# Генерируем данные\n",
    "gen_data = {\n",
    "    'ID': range(1, 101),  # 100 записей\n",
    "    'Имя': [f'Имя_{i}' for i in range(1, 101)],\n",
    "    'Возраст': [random.randint(18, 65) for _ in range(100)],\n",
    "    'Город': [random.choice(['Москва', 'Санкт-Петербург', 'Новосибирск', 'Екатеринбург', 'Казань']) for _ in range(100)]\n",
    "}\n",
    "\n",
    "# Создаем DataFrame\n",
    "data = pd.DataFrame(gen_data)\n",
    "\n",
    "# Сохраняем DataFrame в CSV файл\n",
    "data.to_csv(data_file_path, index=False, encoding='utf-8-sig')\n",
    "\n",
    "print(\"Файл data.csv успешно сгенерирован!\")"
   ]
  },
  {
   "cell_type": "code",
   "execution_count": 30,
   "metadata": {},
   "outputs": [
    {
     "name": "stdout",
     "output_type": "stream",
     "text": [
      "\n",
      "Проверка на пропуски:\n",
      "ID         0\n",
      "Имя        0\n",
      "Возраст    0\n",
      "Город      0\n",
      "dtype: int64\n"
     ]
    }
   ],
   "source": [
    "# 2. Проверка на пропуски\n",
    "print(\"\\nПроверка на пропуски:\")\n",
    "missing_values = data.isnull().sum()\n",
    "print(missing_values)"
   ]
  },
  {
   "cell_type": "code",
   "execution_count": 31,
   "metadata": {},
   "outputs": [],
   "source": [
    "# 3. Очистка данных\n",
    "if missing_values.any():\n",
    "    print(\"\\nОбнаружены пропущенные значения:\")\n",
    "    for column, count in missing_values.items():\n",
    "        if count > 0:\n",
    "            print(f\"- В столбце '{column}' найдено {count} пропущенных значений.\")\n",
    "            if column == 'Возраст':\n",
    "                # Заполняем пропуски средним значением для возраста\n",
    "                data['Возраст'].fillna(data['Возраст'].mean(), inplace=True)\n",
    "                print(f\"Заполнены пропуски в столбце 'Возраст' средним значением: {data['Возраст'].mean():.2f}\")\n"
   ]
  },
  {
   "cell_type": "code",
   "execution_count": 32,
   "metadata": {},
   "outputs": [
    {
     "name": "stdout",
     "output_type": "stream",
     "text": [
      "\n",
      "Возраст стандартизирован. Пример значений:\n",
      "0    1.187471\n",
      "1   -1.104140\n",
      "2   -1.520797\n",
      "3    1.673571\n",
      "4   -0.409712\n",
      "Name: Возраст, dtype: float64\n"
     ]
    }
   ],
   "source": [
    "# 4. Нормализация/стандартизация\n",
    "scaler = StandardScaler()\n",
    "data['Возраст'] = scaler.fit_transform(data[['Возраст']])  # Стандартизация возраста\n",
    "print(\"\\nВозраст стандартизирован. Пример значений:\")\n",
    "print(data['Возраст'].head())"
   ]
  },
  {
   "cell_type": "code",
   "execution_count": 33,
   "metadata": {},
   "outputs": [
    {
     "name": "stdout",
     "output_type": "stream",
     "text": [
      "\n",
      "Кодирование категориальных переменных завершено. Пример предобработанных данных:\n",
      "   ID    Имя   Возраст  Город_Казань  Город_Москва  Город_Новосибирск  \\\n",
      "0   1  Имя_1  1.187471          True         False              False   \n",
      "1   2  Имя_2 -1.104140         False         False              False   \n",
      "2   3  Имя_3 -1.520797         False         False               True   \n",
      "3   4  Имя_4  1.673571         False          True              False   \n",
      "4   5  Имя_5 -0.409712         False         False              False   \n",
      "\n",
      "   Город_Санкт-Петербург  \n",
      "0                  False  \n",
      "1                   True  \n",
      "2                  False  \n",
      "3                  False  \n",
      "4                   True  \n"
     ]
    }
   ],
   "source": [
    "# 5. Кодирование категориальных переменных\n",
    "data = pd.get_dummies(data, columns=['Город'], drop_first=True)  # Преобразование городов в бинарные переменные\n",
    "print(\"\\nКодирование категориальных переменных завершено. Пример предобработанных данных:\")\n",
    "print(data.head())\n"
   ]
  },
  {
   "cell_type": "code",
   "execution_count": 34,
   "metadata": {},
   "outputs": [
    {
     "name": "stdout",
     "output_type": "stream",
     "text": [
      "Предобработанные данные успешно сохранены в: ..\\data\\temp\\cleaned_data.csv\n"
     ]
    }
   ],
   "source": [
    "# 6. Определяем путь для сохранения предобработанных данных\n",
    "output_file_path = os.path.join('..', 'data', 'temp', 'cleaned_data.csv')\n",
    "\n",
    "# Сохраняем предобработанные данные в новый файл\n",
    "data.to_csv(output_file_path, index=False, encoding='utf-8-sig')\n",
    "\n",
    "# Проверяем, был ли файл успешно сохранен\n",
    "if os.path.exists(output_file_path):\n",
    "    print(f\"Предобработанные данные успешно сохранены в: {output_file_path}\")\n",
    "else:\n",
    "    print(f\"Ошибка при сохранении файла по пути: {output_file_path}\")"
   ]
  },
  {
   "cell_type": "markdown",
   "metadata": {},
   "source": [
    "#### 1. Вывод информации о загрузке данных\n",
    "После загрузки данных выводится сообщение с первыми строками загруженного DataFrame. \n",
    "#### 2. Проверка на пропуски: \n",
    "Выводится информация о каждом столбце и количестве пропущенных значений. \n",
    "#### 3. Очистка данных: \n",
    "Если обнаружены пропуски, выводится сообщение о том, в каком столбце и сколько пропусков найдено. Также выводится среднее значение, которым были заполнены пропуски в столбце \"Возраст\". \n",
    "#### 4. Нормализация/стандартизация: \n",
    "Выводится пример первых значений после стандартизации возраста. \n",
    "#### 5. Кодирование категориальных переменных: \n",
    "После кодирования выводится пример предобработанных данных. \n",
    "#### 6. Сохранение данных: \n",
    "В конце выводится сообщение о том, что предобработанные данные успешно сохранены. "
   ]
  }
 ],
 "metadata": {
  "kernelspec": {
   "display_name": ".venv",
   "language": "python",
   "name": "python3"
  },
  "language_info": {
   "codemirror_mode": {
    "name": "ipython",
    "version": 3
   },
   "file_extension": ".py",
   "mimetype": "text/x-python",
   "name": "python",
   "nbconvert_exporter": "python",
   "pygments_lexer": "ipython3",
   "version": "3.12.6"
  }
 },
 "nbformat": 4,
 "nbformat_minor": 2
}
